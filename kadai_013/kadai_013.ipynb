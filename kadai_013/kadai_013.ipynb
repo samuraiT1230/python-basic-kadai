{
  "nbformat": 4,
  "nbformat_minor": 0,
  "metadata": {
    "colab": {
      "provenance": []
    },
    "kernelspec": {
      "name": "python3",
      "display_name": "Python 3"
    },
    "language_info": {
      "name": "python"
    }
  },
  "cells": [
    {
      "cell_type": "code",
      "execution_count": 22,
      "metadata": {
        "colab": {
          "base_uri": "https://localhost:8080/"
        },
        "id": "yYBMnpAq2VmN",
        "outputId": "56592f0b-efa5-4d84-f25f-7e9f64e6f30b"
      },
      "outputs": [
        {
          "output_type": "stream",
          "name": "stdout",
          "text": [
            "121.0円\n"
          ]
        }
      ],
      "source": [
        "total = True\n",
        "def two_arguments(price, shipping_fee):\n",
        "    total = price + shipping_fee * 1.1\n",
        "    return total\n",
        "total = two_arguments(110, 10)\n",
        "print(f\"{total}円\")"
      ]
    }
  ]
}