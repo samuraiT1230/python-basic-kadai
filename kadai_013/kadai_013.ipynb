{
  "nbformat": 4,
  "nbformat_minor": 0,
  "metadata": {
    "colab": {
      "provenance": []
    },
    "kernelspec": {
      "name": "python3",
      "display_name": "Python 3"
    },
    "language_info": {
      "name": "python"
    }
  },
  "cells": [
    {
      "cell_type": "code",
      "source": [
        "def calculate_total_price(price, tax_rate):\n",
        "    total_price = price * (1 + tax_rate)\n",
        "    return total_price\n",
        "price = 110\n",
        "tax_rate = 0.10\n",
        "total = calculate_total_price(price, tax_rate)\n",
        "print(f\"消費税込みの金額は: {total}円です\")"
      ],
      "metadata": {
        "colab": {
          "base_uri": "https://localhost:8080/"
        },
        "id": "5SuzD8pU7rBo",
        "outputId": "44306688-6186-4a92-e6f4-1b7cdc91bc1f"
      },
      "execution_count": 22,
      "outputs": [
        {
          "output_type": "stream",
          "name": "stdout",
          "text": [
            "消費税込みの金額は: 121.00000000000001円です\n"
          ]
        }
      ]
    }
  ]
}