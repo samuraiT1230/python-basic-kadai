{
  "nbformat": 4,
  "nbformat_minor": 0,
  "metadata": {
    "colab": {
      "provenance": []
    },
    "kernelspec": {
      "name": "python3",
      "display_name": "Python 3"
    },
    "language_info": {
      "name": "python"
    }
  },
  "cells": [
    {
      "cell_type": "code",
      "execution_count": 21,
      "metadata": {
        "colab": {
          "base_uri": "https://localhost:8080/"
        },
        "id": "yYBMnpAq2VmN",
        "outputId": "fcb7cc31-2be2-4c39-a20d-0f9e061a8604"
      },
      "outputs": [
        {
          "output_type": "stream",
          "name": "stdout",
          "text": [
            "111.0円\n"
          ]
        }
      ],
      "source": [
        "total = True\n",
        "def two_arguments(price, shipping_fee):\n",
        "    total = price + shipping_fee * 0.1\n",
        "    return total\n",
        "total = two_arguments(110, 10)\n",
        "print(f\"{total}円\")"
      ]
    }
  ]
}