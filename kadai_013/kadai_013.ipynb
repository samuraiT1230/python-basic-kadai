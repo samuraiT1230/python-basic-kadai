{
  "nbformat": 4,
  "nbformat_minor": 0,
  "metadata": {
    "colab": {
      "provenance": []
    },
    "kernelspec": {
      "name": "python3",
      "display_name": "Python 3"
    },
    "language_info": {
      "name": "python"
    }
  },
  "cells": [
    {
      "cell_type": "code",
      "execution_count": 2,
      "metadata": {
        "colab": {
          "base_uri": "https://localhost:8080/"
        },
        "id": "yYBMnpAq2VmN",
        "outputId": "b724444e-7f48-4983-dc5e-0564e9ddb674"
      },
      "outputs": [
        {
          "output_type": "stream",
          "name": "stdout",
          "text": [
            "120円\n"
          ]
        }
      ],
      "source": [
        "def add_two_arguments(price, shipping_fee):\n",
        "    total = price + shipping_fee\n",
        "    print(f\"{total}円\")\n",
        "add_two_arguments(110, 10)"
      ]
    }
  ]
}