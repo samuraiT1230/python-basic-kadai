{
  "nbformat": 4,
  "nbformat_minor": 0,
  "metadata": {
    "colab": {
      "provenance": []
    },
    "kernelspec": {
      "name": "python3",
      "display_name": "Python 3"
    },
    "language_info": {
      "name": "python"
    }
  },
  "cells": [
    {
      "cell_type": "code",
      "execution_count": 7,
      "metadata": {
        "colab": {
          "base_uri": "https://localhost:8080/"
        },
        "id": "yYBMnpAq2VmN",
        "outputId": "0e44b3a9-3c21-4d37-c8a5-5ea71713740a"
      },
      "outputs": [
        {
          "output_type": "stream",
          "name": "stdout",
          "text": [
            "121.00000000000001円\n"
          ]
        }
      ],
      "source": [
        "total = True\n",
        "def two_arguments(price, shipping_fee):\n",
        "    total = price * shipping_fee\n",
        "    return total\n",
        "total = two_arguments(110, 1.1)\n",
        "print(f\"{total}円\")"
      ]
    }
  ]
}