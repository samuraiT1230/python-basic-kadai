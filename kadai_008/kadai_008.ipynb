{
  "nbformat": 4,
  "nbformat_minor": 0,
  "metadata": {
    "colab": {
      "provenance": []
    },
    "kernelspec": {
      "name": "python3",
      "display_name": "Python 3"
    },
    "language_info": {
      "name": "python"
    }
  },
  "cells": [
    {
      "cell_type": "code",
      "execution_count": 42,
      "metadata": {
        "colab": {
          "base_uri": "https://localhost:8080/"
        },
        "id": "ylHLNiZDkGR6",
        "outputId": "bcad04bb-193e-4136-d46f-16d5d173be68"
      },
      "outputs": [
        {
          "output_type": "stream",
          "name": "stdout",
          "text": [
            "51\n",
            "Fizz\n"
          ]
        }
      ],
      "source": [
        "import random\n",
        "ver = random.randint(1,100)\n",
        "print(ver)\n",
        "if ver % 15 ==0:\n",
        "    print(\"FizzBuzz\")\n",
        "elif ver % 5 == 0:\n",
        "    print(\"Buzz\")\n",
        "elif ver % 3 == 0:\n",
        "    print(\"Fizz\")"
      ]
    },
    {
      "cell_type": "code",
      "source": [],
      "metadata": {
        "id": "rDzw-63VruJY"
      },
      "execution_count": null,
      "outputs": []
    }
  ]
}