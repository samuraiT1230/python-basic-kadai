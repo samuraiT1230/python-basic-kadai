{
  "nbformat": 4,
  "nbformat_minor": 0,
  "metadata": {
    "colab": {
      "provenance": []
    },
    "kernelspec": {
      "name": "python3",
      "display_name": "Python 3"
    },
    "language_info": {
      "name": "python"
    }
  },
  "cells": [
    {
      "cell_type": "code",
      "execution_count": 46,
      "metadata": {
        "colab": {
          "base_uri": "https://localhost:8080/"
        },
        "id": "ylHLNiZDkGR6",
        "outputId": "0c940f93-8d24-45c9-b136-445f543c268d"
      },
      "outputs": [
        {
          "output_type": "stream",
          "name": "stdout",
          "text": [
            "15\n",
            "FizzBuzz\n"
          ]
        }
      ],
      "source": [
        "import random\n",
        "ver = random.randint(0,15)\n",
        "print(ver)\n",
        "if ver == 3 or ver == 6 or ver == 9 or ver == 12:\n",
        "    print(\"Fizz\")\n",
        "elif ver == 5 or ver == 10:\n",
        "    print(\"Buzz\")\n",
        "elif ver == 15:\n",
        "    print(\"FizzBuzz\")\n"
      ]
    }
  ]
}