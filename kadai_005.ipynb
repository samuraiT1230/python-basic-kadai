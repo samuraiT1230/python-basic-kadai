{
  "nbformat": 4,
  "nbformat_minor": 0,
  "metadata": {
    "colab": {
      "provenance": []
    },
    "kernelspec": {
      "name": "python3",
      "display_name": "Python 3"
    },
    "language_info": {
      "name": "python"
    }
  },
  "cells": [
    {
      "cell_type": "code",
      "execution_count": 30,
      "metadata": {
        "colab": {
          "base_uri": "https://localhost:8080/"
        },
        "id": "raB_IAYT9x1D",
        "outputId": "e8162181-93a4-4f01-d631-e2084c286bd8"
      },
      "outputs": [
        {
          "output_type": "stream",
          "name": "stdout",
          "text": [
            "番号1 上辺10cm 下辺20cm 高さ5cm\n",
            "番号2 75.0\n",
            "番号3 75.0cm²\n"
          ]
        }
      ],
      "source": [
        "# 番号1\n",
        "ue = 10\n",
        "sita = 20\n",
        "takasa = 5\n",
        "print(\"番号1 \" + \"上辺\" + str(ue) + \"cm \" + \"下辺\" + str(sita) + \"cm \" + \"高さ\" + str(takasa) + \"cm\")\n",
        "\n",
        "# 番号2\n",
        "keisan = ((((ue + sita) * takasa)/2))\n",
        "print(\"番号2 \" + str(keisan))\n",
        "\n",
        "# 番号3\n",
        "print(\"番号3 \" + str(keisan) + \"cm²\")"
      ]
    }
  ]
}