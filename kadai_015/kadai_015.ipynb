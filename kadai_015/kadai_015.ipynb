{
  "nbformat": 4,
  "nbformat_minor": 0,
  "metadata": {
    "colab": {
      "provenance": []
    },
    "kernelspec": {
      "name": "python3",
      "display_name": "Python 3"
    },
    "language_info": {
      "name": "python"
    }
  },
  "cells": [
    {
      "cell_type": "code",
      "execution_count": 3,
      "metadata": {
        "id": "dNgfS_Wcgsyn",
        "colab": {
          "base_uri": "https://localhost:8080/"
        },
        "outputId": "d5a29169-56ef-4f5d-d140-89913f9736b7"
      },
      "outputs": [
        {
          "output_type": "stream",
          "name": "stdout",
          "text": [
            "名前\n",
            "年齢\n"
          ]
        }
      ],
      "source": [
        "class Human:\n",
        "    def __init__(self, name, age):\n",
        "        self.name = name\n",
        "        self.age = age\n",
        "human = Human(\"名前\",\"年齢\")\n",
        "\n",
        "print(human.name)\n",
        "print(human.age)"
      ]
    }
  ]
}