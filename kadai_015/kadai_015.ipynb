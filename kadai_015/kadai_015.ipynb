{
  "nbformat": 4,
  "nbformat_minor": 0,
  "metadata": {
    "colab": {
      "provenance": []
    },
    "kernelspec": {
      "name": "python3",
      "display_name": "Python 3"
    },
    "language_info": {
      "name": "python"
    }
  },
  "cells": [
    {
      "cell_type": "code",
      "execution_count": 5,
      "metadata": {
        "id": "dNgfS_Wcgsyn",
        "colab": {
          "base_uri": "https://localhost:8080/"
        },
        "outputId": "44089df7-d771-4593-de8b-d101ddd47440"
      },
      "outputs": [
        {
          "output_type": "stream",
          "name": "stdout",
          "text": [
            "名前 名前\n",
            "年齢 年齢\n"
          ]
        }
      ],
      "source": [
        "class Human:\n",
        "    def __init__(self, name, age):\n",
        "        self.name = name\n",
        "        self.age = age\n",
        "\n",
        "    def set_name(self, name):\n",
        "      self_name = name\n",
        "    def set_age(self, age):\n",
        "      self.age = age\n",
        "\n",
        "    def printinfo(self):\n",
        "      print(\"名前\", self.name)\n",
        "      print(\"年齢\", self.age)\n",
        "\n",
        "human = Human(\"名前\", \"年齢\")\n",
        "\n",
        "human.printinfo()"
      ]
    }
  ]
}