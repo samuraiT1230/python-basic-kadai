{
  "nbformat": 4,
  "nbformat_minor": 0,
  "metadata": {
    "colab": {
      "provenance": []
    },
    "kernelspec": {
      "name": "python3",
      "display_name": "Python 3"
    },
    "language_info": {
      "name": "python"
    }
  },
  "cells": [
    {
      "cell_type": "code",
      "execution_count": 1,
      "metadata": {
        "colab": {
          "base_uri": "https://localhost:8080/"
        },
        "id": "9eNDHBZiNf3a",
        "outputId": "b2527926-e8cb-4822-8108-bb6e806ef62b"
      },
      "outputs": [
        {
          "output_type": "stream",
          "name": "stdout",
          "text": [
            "太郎 is an adult.\n",
            "一郎 is not an adult.\n",
            "二郎 is an adult.\n",
            "三郎 is not an adult.\n"
          ]
        }
      ],
      "source": [
        "class Human:\n",
        "    def __init__(self, name, age):\n",
        "        self.name = name\n",
        "        self.age = age\n",
        "\n",
        "    def check_adult(self):\n",
        "        if self.age >= 20:\n",
        "            return f\"{self.name} is an adult.\"\n",
        "        else:\n",
        "            return f\"{self.name} is not an adult.\"\n",
        "\n",
        "humans = [\n",
        "    Human(\"太郎\", 32),\n",
        "    Human(\"一郎\", 17),\n",
        "    Human(\"二郎\", 25),\n",
        "    Human(\"三郎\", 19)\n",
        "]\n",
        "\n",
        "for human in humans:\n",
        "    print(human.check_adult())"
      ]
    }
  ]
}